{
 "cells": [
  {
   "cell_type": "code",
   "execution_count": null,
   "id": "eba9d35d-12bf-4a42-8923-ffc77a44f6e6",
   "metadata": {},
   "outputs": [],
   "source": [
    "#http://api.followthemoney.org/?dt=1&y=2023&APIKey=fce3c98d81e1be16398b58a7e52c3d59&mode=xml"
   ]
  }
 ],
 "metadata": {
  "kernelspec": {
   "display_name": "Python 3 (ipykernel)",
   "language": "python",
   "name": "python3"
  },
  "language_info": {
   "codemirror_mode": {
    "name": "ipython",
    "version": 3
   },
   "file_extension": ".py",
   "mimetype": "text/x-python",
   "name": "python",
   "nbconvert_exporter": "python",
   "pygments_lexer": "ipython3",
   "version": "3.11.7"
  }
 },
 "nbformat": 4,
 "nbformat_minor": 5
}
